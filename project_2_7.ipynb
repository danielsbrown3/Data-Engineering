{
 "cells": [
  {
   "cell_type": "markdown",
   "id": "3f465500",
   "metadata": {},
   "source": [
    "# Project 2, Part 7, Analysis on continuing to withhold customer data from 3rd parties\n",
    "\n",
    "University of California, Berkeley\n",
    "\n",
    "Master of Information and Data Science (MIDS) program\n",
    "\n",
    "w205 - Fundamentals of Data Engineering\n"
   ]
  },
  {
   "cell_type": "markdown",
   "id": "1cf92eab",
   "metadata": {},
   "source": [
    "# 2.7 Analysis on continuing to withhold customer data from 3rd parties\n",
    "\n",
    "As stated in the scenario, like most companies, AGM does not want to give out its customer list to 3rd party sales channels.  The downside is, as we have seen, that customer first names, last names, and street addresses will have some variations and not be exact matches.\n",
    "\n",
    "The data science team would like your analysis of both options:\n",
    "\n",
    "1)  Continue to withhold the customer data from 3rd party sales channels\n",
    "\n",
    "2)  Give customer data to 3rd party sales channels\n",
    "\n",
    "The data science team would also like your recommendation on which option you think is best.  \n",
    "\n",
    "In the markdown cell, you must provide:\n",
    "* A meaningful title\n",
    "* Write a brief paragraph for option 1.\n",
    "* Write a brief paragraph for option 2.\n",
    "* Write a brief paragraph with your recommendation, which must be either option 1 or option 2, you cannot recommend something else.\n",
    "\n",
    "Put the title and all 3 paragraphs in a single markdown cell.\n",
    "\n",
    "You are not required to write any queries nor any code nor create any data visualizations.  Simply provide English text.\n"
   ]
  },
  {
   "cell_type": "markdown",
   "id": "c8086a63",
   "metadata": {},
   "source": [
    "# Safeguarding Our Customers\n",
    "\n",
    "\n",
    "Withholding customer data from third-party sales channels allows AGM to maintain full control over sensitive customer information. As we analyzed the data, we encountered instances where customer data had variations or inconsistencies, particularly in first names, last names, and street addresses. For example, during validation, we found mismatches between customer records from Peak Deliveries and AGM, which indicates that withholding data can lead to slight discrepancies across systems. AGM can still safeguard customer privacy and resolve data inconsistencies internally within our own teams after receiveing the information from the third-parties without exposing sensitive information. This approach allows the company to avoid potential data breaches or misuse that may occur if customer data is shared with external entities.\n",
    "\n",
    "Sharing customer data with third-party sales channels can help address the mismatch issues. When validating city, state, and zip information, having an open lign of data flow between the companies could decrease mismatching. Sharing data could improve consistency in product sales records and customer orders leading to reduced errors like the differences we observed between line item totals and sales records. The downside is that AGM no longer has complete control over its customer information, which could expose it to potential security risks. \n",
    "\n",
    "\n",
    "Option 1 is the option our data team recommends. Continuing to withhold customer data from third-party sales channels, may introduce some minor inconsistencies, protecting customer privacy is vital to a companies long term success. AGM’s control over its customer list outweighs the benefits of external data matching, especially in light of potential risks related to security breaches and data misuse.\n"
   ]
  },
  {
   "cell_type": "code",
   "execution_count": null,
   "id": "b8c59d2b",
   "metadata": {},
   "outputs": [],
   "source": []
  }
 ],
 "metadata": {
  "kernelspec": {
   "display_name": "Python 3 (ipykernel)",
   "language": "python",
   "name": "python3"
  },
  "language_info": {
   "codemirror_mode": {
    "name": "ipython",
    "version": 3
   },
   "file_extension": ".py",
   "mimetype": "text/x-python",
   "name": "python",
   "nbconvert_exporter": "python",
   "pygments_lexer": "ipython3",
   "version": "3.9.7"
  }
 },
 "nbformat": 4,
 "nbformat_minor": 5
}
