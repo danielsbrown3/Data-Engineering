{
 "cells": [
  {
   "cell_type": "markdown",
   "id": "cd11da2a",
   "metadata": {},
   "source": [
    "# Project 1, Part 6, Identifying Best Customers\n"
   ]
  },
  {
   "cell_type": "markdown",
   "id": "701f1c25",
   "metadata": {},
   "source": [
    "# 1.6 Ideas on how the sales data can be used to help identify best customers\n",
    "\n",
    "The data science team would like to know your best ideas on how the sales data can be used to help identify the company's best customers.\n",
    "\n",
    "\n",
    "\n",
    "They are going to start with the most common and most basic model known as RFM, which consists of the 3 dimensions.\n",
    "\n",
    "* R - Recency - How recently did the customer purchase?\n",
    "\n",
    "* F - Frequency - How often do they purchase?\n",
    "\n",
    "* M - Monetary Value - How much do they spend?\n",
    "\n",
    "\n",
    "\n",
    "At first glance, it's pretty easy to think of a simple query for each dimension.\n",
    "\n",
    "However, after some thought, it's not quite so easy. It's very open ended, with a lot of grey areas, and no single right or wrong answer (just like 99% of data science and AI!)  For each dimension, there can be some pretty complex ways to determine.\n",
    "\n",
    "The data science team also has to come up with a way to synthesize the 3 dimensions into a single customer value for each customer.\n",
    "\n",
    "\n",
    "\n",
    "The data science team would like for you to present your ideas in the form of a title and 4 paragraphs as follows:\n",
    "\n",
    "* Title - A title describing what you will be explaining\n",
    "\n",
    "* Recency - A brief paragraph explaining your ideas on how the data can be used to determine recency.  \n",
    "\n",
    "* Frequency - A brief paragraph explaining your ideas on how the data can be used to determine frequency.\n",
    "\n",
    "* Monetary Value - A brief paragraph explaining your ideas on how the data can be used to determine monetary value.\n",
    "\n",
    "* Synthesis - A brief paragraph explaining your ideas on how to synthesize the 3 dimensions of recency, frequency, and monetary value into a customer value for each customer and how to determine who the best customers are.\n",
    "\n",
    "\n",
    "\n",
    "Put the title and all 4 paragraphs in a single markdown cell.\n",
    "\n",
    "Note that you do not write code for this, only english language descriptions of your ideas.\n",
    "\n"
   ]
  },
  {
   "cell_type": "markdown",
   "id": "67dd986f",
   "metadata": {},
   "source": [
    "# How to Find Our Best Customers Using Data\n",
    "\n",
    "Recency:\n",
    "Instead of just looking at the date of the last purchase, we could take it a step further by tracking trends in customer behavior. For example, has the time between purchases been decreasing or increasing over time? We could also assign different weights to purchases depending on when they were made—like giving more importance to a purchase made in the last week versus one made a month ago. This way, we can identify customers whose engagement is growing, not just those who made a recent purchase by chance.\n",
    "\n",
    "Frequency:\n",
    "Beyond counting the number of transactions, we could dig deeper by examining purchase patterns. For instance, is a customer buying more frequently on certain days or during specific seasons? We could cluster customers based on their buying habits and see if there are any groups that tend to buy in spurts or around specific promotions. By doing this, we’re not only ranking customers by how often they buy but also understanding what drives their purchases, helping us predict future buying behavior.\n",
    "\n",
    "Monetary Value:\n",
    "Instead of just summing the total amount spent, we could break down spending into categories, such as regular purchases versus high-ticket items or sale items versus full-price products. A customer who consistently buys premium products might be more valuable long-term than someone who only shops during sales. We could also track how much their average spending has increased or decreased over time. A rising spend trend might indicate a customer is becoming more invested in the brand, while a downward trend could flag potential disengagement.\n",
    "\n",
    "Synthesis:\n",
    "To combine all three dimensions creatively, we could develop a scoring system that adjusts based on customer behavior patterns. For instance, if a customer’s frequency is dropping but their monetary value is increasing, we could prioritize them for special offers to encourage more frequent purchases. We could also use machine learning to analyze the relationships between recency, frequency, and monetary value, identifying unique customer profiles that don’t fit the usual mold. This would help us create a dynamic system where the definition of a \"best customer\" evolves based on real-time data, allowing the company to adapt its engagement strategies quickly."
   ]
  },
  {
   "cell_type": "code",
   "execution_count": null,
   "id": "c4e9b7c3",
   "metadata": {},
   "outputs": [],
   "source": []
  }
 ],
 "metadata": {
  "kernelspec": {
   "display_name": "Python 3 (ipykernel)",
   "language": "python",
   "name": "python3"
  },
  "language_info": {
   "codemirror_mode": {
    "name": "ipython",
    "version": 3
   },
   "file_extension": ".py",
   "mimetype": "text/x-python",
   "name": "python",
   "nbconvert_exporter": "python",
   "pygments_lexer": "ipython3",
   "version": "3.9.7"
  }
 },
 "nbformat": 4,
 "nbformat_minor": 5
}
